{
 "cells": [
  {
   "cell_type": "markdown",
   "id": "bc2f22b0",
   "metadata": {},
   "source": [
    "## Qdrant をローカルで開始する方法\n",
    "### ダウンロードして実行する\n"
   ]
  },
  {
   "cell_type": "code",
   "execution_count": 5,
   "id": "bdd6f70b",
   "metadata": {},
   "outputs": [
    {
     "name": "stderr",
     "output_type": "stream",
     "text": [
      "1821.73s - pydevd: Sending message related to process being replaced timed-out after 5 seconds\n"
     ]
    },
    {
     "name": "stdout",
     "output_type": "stream",
     "text": [
      "Using default tag: latest\n",
      "latest: Pulling from qdrant/qdrant\n",
      "\n",
      "\u001b[1B8d6c47ec: Pulling fs layer \n",
      "\u001b[1Bd67c2f2b: Pulling fs layer \n",
      "\u001b[1B6ae37626: Pulling fs layer \n",
      "\u001b[1Bb700ef54: Pulling fs layer \n",
      "\u001b[1B446440f1: Pulling fs layer \n",
      "\u001b[1B1c881c4f: Pulling fs layer \n",
      "\u001b[1B6b2ae603: Pulling fs layer \n",
      "\u001b[1B2cf4eb3c: Pull complete 057MB/2.057MBB\u001b[7A\u001b[2K\u001b[8A\u001b[2K\u001b[7A\u001b[2K\u001b[8A\u001b[2K\u001b[8A\u001b[2K\u001b[8A\u001b[2K\u001b[8A\u001b[2K\u001b[8A\u001b[2K\u001b[8A\u001b[2K\u001b[5A\u001b[2K\u001b[8A\u001b[2K\u001b[4A\u001b[2K\u001b[8A\u001b[2K\u001b[8A\u001b[2K\u001b[8A\u001b[2K\u001b[4A\u001b[2K\u001b[8A\u001b[2K\u001b[4A\u001b[2K\u001b[8A\u001b[2K\u001b[4A\u001b[2K\u001b[4A\u001b[2K\u001b[4A\u001b[2K\u001b[4A\u001b[2K\u001b[8A\u001b[2K\u001b[8A\u001b[2K\u001b[2A\u001b[2K\u001b[7A\u001b[2K\u001b[6A\u001b[2K\u001b[6A\u001b[2K\u001b[6A\u001b[2K\u001b[5A\u001b[2K\u001b[1A\u001b[2K\u001b[1A\u001b[2K\u001b[3A\u001b[2K\u001b[4A\u001b[2K\u001b[4A\u001b[2K\u001b[4A\u001b[2K\u001b[4A\u001b[2K\u001b[4A\u001b[2K\u001b[3A\u001b[2K\u001b[2A\u001b[2K\u001b[1A\u001b[2K\u001b[1A\u001b[2KDigest: sha256:7a4788934788a7ed9cbf6b8cc3ca1ee880dcd969cf8c6639dc7d0e446cbd4b47\n",
      "Status: Downloaded newer image for qdrant/qdrant:latest\n",
      "docker.io/qdrant/qdrant:latest\n"
     ]
    }
   ],
   "source": [
    "!docker pull qdrant/qdrant"
   ]
  },
  {
   "cell_type": "markdown",
   "id": "36b70740",
   "metadata": {},
   "source": [
    "### 次に、サービスを実行します（-dオプションをつけてコンテナをバックグラウンドで動作させます）"
   ]
  },
  {
   "cell_type": "code",
   "execution_count": null,
   "id": "179a4a47",
   "metadata": {},
   "outputs": [],
   "source": [
    "!docker run -d -p 6333:6333 -p 6334:6334 \\\n",
    "    -v $(pwd)/qdrant_storage:/qdrant/storage:z \\\n",
    "    qdrant/qdrant"
   ]
  },
  {
   "cell_type": "markdown",
   "id": "1e471e42",
   "metadata": {},
   "source": [
    "### Qdrantのクライアントを初期化する"
   ]
  },
  {
   "cell_type": "code",
   "execution_count": 2,
   "id": "5baae650",
   "metadata": {},
   "outputs": [
    {
     "name": "stdout",
     "output_type": "stream",
     "text": [
      "Defaulting to user installation because normal site-packages is not writeable\n",
      "Requirement already satisfied: qdrant_client in /home/yoshi/.local/lib/python3.10/site-packages (1.11.3)\n",
      "Requirement already satisfied: grpcio-tools>=1.41.0 in /home/yoshi/.local/lib/python3.10/site-packages (from qdrant_client) (1.66.2)\n",
      "Requirement already satisfied: portalocker<3.0.0,>=2.7.0 in /home/yoshi/.local/lib/python3.10/site-packages (from qdrant_client) (2.10.1)\n",
      "Requirement already satisfied: numpy>=1.21 in /home/yoshi/.local/lib/python3.10/site-packages (from qdrant_client) (1.26.4)\n",
      "Requirement already satisfied: httpx[http2]>=0.20.0 in /home/yoshi/.local/lib/python3.10/site-packages (from qdrant_client) (0.27.2)\n",
      "Requirement already satisfied: urllib3<3,>=1.26.14 in /home/yoshi/.local/lib/python3.10/site-packages (from qdrant_client) (2.2.3)\n",
      "Requirement already satisfied: pydantic>=1.10.8 in /home/yoshi/.local/lib/python3.10/site-packages (from qdrant_client) (2.9.2)\n",
      "Requirement already satisfied: grpcio>=1.41.0 in /home/yoshi/.local/lib/python3.10/site-packages (from qdrant_client) (1.66.2)\n",
      "Requirement already satisfied: protobuf<6.0dev,>=5.26.1 in /home/yoshi/.local/lib/python3.10/site-packages (from grpcio-tools>=1.41.0->qdrant_client) (5.28.2)\n",
      "Requirement already satisfied: setuptools in /usr/lib/python3/dist-packages (from grpcio-tools>=1.41.0->qdrant_client) (59.6.0)\n",
      "Requirement already satisfied: certifi in /home/yoshi/.local/lib/python3.10/site-packages (from httpx[http2]>=0.20.0->qdrant_client) (2024.8.30)\n",
      "Requirement already satisfied: httpcore==1.* in /home/yoshi/.local/lib/python3.10/site-packages (from httpx[http2]>=0.20.0->qdrant_client) (1.0.5)\n",
      "Requirement already satisfied: sniffio in /home/yoshi/.local/lib/python3.10/site-packages (from httpx[http2]>=0.20.0->qdrant_client) (1.3.1)\n",
      "Requirement already satisfied: idna in /home/yoshi/.local/lib/python3.10/site-packages (from httpx[http2]>=0.20.0->qdrant_client) (3.10)\n",
      "Requirement already satisfied: anyio in /home/yoshi/.local/lib/python3.10/site-packages (from httpx[http2]>=0.20.0->qdrant_client) (4.4.0)\n",
      "Requirement already satisfied: h2<5,>=3 in /home/yoshi/.local/lib/python3.10/site-packages (from httpx[http2]>=0.20.0->qdrant_client) (4.1.0)\n",
      "Requirement already satisfied: h11<0.15,>=0.13 in /home/yoshi/.local/lib/python3.10/site-packages (from httpcore==1.*->httpx[http2]>=0.20.0->qdrant_client) (0.14.0)\n",
      "Requirement already satisfied: annotated-types>=0.6.0 in /home/yoshi/.local/lib/python3.10/site-packages (from pydantic>=1.10.8->qdrant_client) (0.7.0)\n",
      "Requirement already satisfied: typing-extensions>=4.6.1 in /home/yoshi/.local/lib/python3.10/site-packages (from pydantic>=1.10.8->qdrant_client) (4.12.2)\n",
      "Requirement already satisfied: pydantic-core==2.23.4 in /home/yoshi/.local/lib/python3.10/site-packages (from pydantic>=1.10.8->qdrant_client) (2.23.4)\n",
      "Requirement already satisfied: hpack<5,>=4.0 in /home/yoshi/.local/lib/python3.10/site-packages (from h2<5,>=3->httpx[http2]>=0.20.0->qdrant_client) (4.0.0)\n",
      "Requirement already satisfied: hyperframe<7,>=6.0 in /home/yoshi/.local/lib/python3.10/site-packages (from h2<5,>=3->httpx[http2]>=0.20.0->qdrant_client) (6.0.1)\n",
      "Requirement already satisfied: exceptiongroup>=1.0.2 in /home/yoshi/.local/lib/python3.10/site-packages (from anyio->httpx[http2]>=0.20.0->qdrant_client) (1.2.2)\n"
     ]
    }
   ],
   "source": [
    "!pip3 install qdrant_client\n",
    "from qdrant_client import QdrantClient\n"
   ]
  },
  {
   "cell_type": "code",
   "execution_count": 7,
   "id": "98d08d1a",
   "metadata": {},
   "outputs": [],
   "source": [
    "client = QdrantClient(url=\"http://localhost:6333\")"
   ]
  },
  {
   "cell_type": "markdown",
   "id": "f94853eb",
   "metadata": {},
   "source": [
    "### コレクションを追加する"
   ]
  },
  {
   "cell_type": "code",
   "execution_count": null,
   "id": "92e9f54b",
   "metadata": {},
   "outputs": [],
   "source": [
    "from qdrant_client.models import Distance, VectorParams\n",
    "\n",
    "client.create_collection(\n",
    "    collection_name=\"test_collection\",\n",
    "    vectors_config=VectorParams(size=4, distance=Distance.DOT),\n",
    ")\n"
   ]
  },
  {
   "cell_type": "markdown",
   "id": "ec68e8ef",
   "metadata": {},
   "source": [
    "### ベクトルの追加"
   ]
  },
  {
   "cell_type": "code",
   "execution_count": 8,
   "id": "49912087",
   "metadata": {},
   "outputs": [
    {
     "name": "stdout",
     "output_type": "stream",
     "text": [
      "operation_id=2 status=<UpdateStatus.COMPLETED: 'completed'>\n"
     ]
    }
   ],
   "source": [
    "from qdrant_client.models import PointStruct\n",
    "\n",
    "operation_info = client.upsert(\n",
    "    collection_name=\"test_collection\",\n",
    "    wait=True,\n",
    "    points=[\n",
    "        PointStruct(id=1, vector=[0.05, 0.61, 0.76, 0.74], payload={\"city\": \"Berlin\"}),\n",
    "        PointStruct(id=2, vector=[0.19, 0.81, 0.75, 0.11], payload={\"city\": \"London\"}),\n",
    "        PointStruct(id=3, vector=[0.36, 0.55, 0.47, 0.94], payload={\"city\": \"Moscow\"}),\n",
    "        PointStruct(id=4, vector=[0.18, 0.01, 0.85, 0.80], payload={\"city\": \"New York\"}),\n",
    "        PointStruct(id=5, vector=[0.24, 0.18, 0.22, 0.44], payload={\"city\": \"Beijing\"}),\n",
    "        PointStruct(id=6, vector=[0.35, 0.08, 0.11, 0.44], payload={\"city\": \"Mumbai\"}),\n",
    "    ],\n",
    ")\n",
    "\n",
    "print(operation_info)"
   ]
  },
  {
   "cell_type": "markdown",
   "id": "337bf35f",
   "metadata": {},
   "source": [
    "### クエリの実行"
   ]
  },
  {
   "cell_type": "code",
   "execution_count": 9,
   "id": "03b65eec",
   "metadata": {},
   "outputs": [
    {
     "name": "stdout",
     "output_type": "stream",
     "text": [
      "[ScoredPoint(id=4, version=2, score=1.362, payload=None, vector=None, shard_key=None, order_value=None), ScoredPoint(id=1, version=2, score=1.273, payload=None, vector=None, shard_key=None, order_value=None), ScoredPoint(id=3, version=2, score=1.208, payload=None, vector=None, shard_key=None, order_value=None)]\n"
     ]
    }
   ],
   "source": [
    "search_result = client.query_points(\n",
    "    collection_name=\"test_collection\",\n",
    "    query=[0.2, 0.1, 0.9, 0.7],\n",
    "    with_payload=False,\n",
    "    limit=3\n",
    ").points\n",
    "\n",
    "print(search_result)"
   ]
  },
  {
   "cell_type": "markdown",
   "id": "c15a8202",
   "metadata": {},
   "source": [
    "### フィルターを追加する"
   ]
  },
  {
   "cell_type": "code",
   "execution_count": 10,
   "id": "71eecffb",
   "metadata": {},
   "outputs": [
    {
     "name": "stdout",
     "output_type": "stream",
     "text": [
      "[ScoredPoint(id=2, version=2, score=0.871, payload={'city': 'London'}, vector=None, shard_key=None, order_value=None)]\n"
     ]
    }
   ],
   "source": [
    "from qdrant_client.models import Filter, FieldCondition, MatchValue\n",
    "\n",
    "search_result = client.query_points(\n",
    "    collection_name=\"test_collection\",\n",
    "    query=[0.2, 0.1, 0.9, 0.7],\n",
    "    query_filter=Filter(\n",
    "        must=[FieldCondition(key=\"city\", match=MatchValue(value=\"London\"))]\n",
    "    ),\n",
    "    with_payload=True,\n",
    "    limit=3,\n",
    ").points\n",
    "\n",
    "print(search_result)"
   ]
  }
 ],
 "metadata": {
  "kernelspec": {
   "display_name": "Python 3",
   "language": "python",
   "name": "python3"
  },
  "language_info": {
   "codemirror_mode": {
    "name": "ipython",
    "version": 3
   },
   "file_extension": ".py",
   "mimetype": "text/x-python",
   "name": "python",
   "nbconvert_exporter": "python",
   "pygments_lexer": "ipython3",
   "version": "3.10.12"
  }
 },
 "nbformat": 4,
 "nbformat_minor": 5
}
